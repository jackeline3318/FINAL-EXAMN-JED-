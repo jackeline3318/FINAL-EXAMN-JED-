{
 "cells": [
  {
   "cell_type": "code",
   "execution_count": null,
   "id": "48f32698",
   "metadata": {},
   "outputs": [
    {
     "name": "stderr",
     "output_type": "stream",
     "text": [
      "[nltk_data] Downloading package punkt to\n",
      "[nltk_data]     C:\\Users\\gisse\\AppData\\Roaming\\nltk_data...\n",
      "[nltk_data]   Package punkt is already up-to-date!\n"
     ]
    },
    {
     "name": "stdout",
     "output_type": "stream",
     "text": [
      "Hello! I'm your chatbot. Type 'quit' to exit.\n",
      "You: Hi\n",
      "Best friend: Hello!\n",
      "You: How are you \n",
      "Best friend: I am a computer program and you??, I am a chicken nugget, so I don't have feelings, but I am functioning properly.\n",
      "You: Thats interesting\n",
      "Best friend: Duhhhhhhh!\n",
      "You: Adios\n",
      "Best friend: See  yaaaa!\n"
     ]
    }
   ],
   "source": [
    "import nltk\n",
    "from nltk.chat.util import Chat, reflections\n",
    "\n",
    "nltk.download('punkt')\n",
    "\n",
    "patterns = [\n",
    "    (r'hi|hello|hey', ['Hi there alligator!', 'Hello!', 'Hey!']),\n",
    "    (r'how are you', ['I am doing good I would say, thank you!', 'I am a computer program and you??, I am a chicken nugget, so I don\\'t have feelings, but I am functioning properly.']),(r'can you tell me a secret|anything special today|whats up', ['Just life pretty boring', 'The other day my dog ate my homework!', 'Idk i am a computer']),\n",
    "     (r'Thats interesting|Very deep|OMG', ['Ik computer programs are crazy', 'Duhhhhhhh!', 'Ikkk!']),\n",
    "  (r'Quit|Adios|Byeeeeeeee', ['Bye bestfriend, Ill miss you', 'See  yaaaa!', 'Goodbye']),\n",
    "]\n",
    "\n",
    "chatbot = Chat(patterns, reflections)\n",
    "\n",
    "def chat_with_bot():\n",
    "    print(\"Hello! I'm your chatbot. Type 'quit' to exit.\")\n",
    "    while True:\n",
    "        user_input = input(\"You: \")\n",
    "        if user_input.lower() == 'quit':\n",
    "            print(\"Chatbot: Goodbye!\")\n",
    "            break\n",
    "        else:\n",
    "            response = chatbot.respond(user_input)\n",
    "            print(\"Best friend:\", response)\n",
    "\n",
    "chat_with_bot()"
   ]
  },
  {
   "cell_type": "code",
   "execution_count": null,
   "id": "f54f3a72",
   "metadata": {},
   "outputs": [],
   "source": []
  }
 ],
 "metadata": {
  "kernelspec": {
   "display_name": "Python 3 (ipykernel)",
   "language": "python",
   "name": "python3"
  },
  "language_info": {
   "codemirror_mode": {
    "name": "ipython",
    "version": 3
   },
   "file_extension": ".py",
   "mimetype": "text/x-python",
   "name": "python",
   "nbconvert_exporter": "python",
   "pygments_lexer": "ipython3",
   "version": "3.11.4"
  }
 },
 "nbformat": 4,
 "nbformat_minor": 5
}
